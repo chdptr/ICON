{
 "cells": [
  {
   "attachments": {},
   "cell_type": "markdown",
   "metadata": {},
   "source": [
    " \n",
    "## Pre-elaborazione\n",
    "Il codice legge i dati dal file diabetes.csv nella cartella Dataset e li carica in un DataFrame pandas. Quindi, crea un oggetto SimpleImputer con la strategia di imputazione impostata su \"mean\" e il valore mancante impostato su 0. L'imputatore viene quindi utilizzato per imputare i valori mancanti in tutte le colonne del dataset, tranne \"Outcome\".\n",
    "Dopo l'imputazione, il codice separa le feature di input dalla classe di output e aumenta la rilevanza delle feature significative moltiplicandole per 2. Quindi, crea un oggetto `MinMaxScaler` e lo adatta alle feature di input. Le feature in ingresso vengono quindi trasformate utilizzando lo scaler.\n",
    "Si dividono poi i dati in training, validation e test sets, utilizzando la funzione `train_test_split`. Si calcolano anche i pesi delle classi con la funzione `compute_class_weight` e si salvano i pesi delle classi in un dizionario.\n",
    "Infine, salviamo i dati elaborati in file .npy nella cartella Pre_Processed_Data.\n",
    "\n",
    " \n",
    " "
   ]
  },
  {
   "cell_type": "code",
   "execution_count": 1,
   "metadata": {},
   "outputs": [
    {
     "name": "stdout",
     "output_type": "stream",
     "text": [
      "[0.76607143 1.43959732]\n",
      "train_features: 429\n",
      "test_features: 231\n",
      "val_features: 108\n",
      "total features: 768\n"
     ]
    }
   ],
   "source": [
    "import pandas as pd\n",
    "from sklearn.preprocessing import MinMaxScaler\n",
    "import numpy as np\n",
    "from sklearn.model_selection import train_test_split\n",
    "from sklearn.utils.class_weight import compute_class_weight\n",
    "from sklearn.impute import SimpleImputer\n",
    "\n",
    "data = pd.read_csv('Dataset/diabetes.csv')\n",
    "\n",
    "imputer = SimpleImputer(strategy='mean', missing_values=0)\n",
    "\n",
    "data.iloc[:, :-1] = imputer.fit_transform(data.iloc[:, :-1])\n",
    "\n",
    "features = data.drop(['Outcome'], axis=1)\n",
    "labels = data['Outcome']\n",
    "\n",
    "significant_features = ['Pregnancies', 'Glucose', 'BMI', 'DiabetesPedigreeFunction', 'Age']\n",
    "features[significant_features] *= 2\n",
    "\n",
    "scaler = MinMaxScaler()\n",
    "\n",
    "scaler.fit(features)\n",
    "\n",
    "features_normalized = scaler.transform(features)\n",
    "\n",
    "train_features, test_features, train_labels, test_labels = train_test_split(features_normalized, labels, test_size=0.3, random_state=42)\n",
    "train_features, val_features, train_labels, val_labels = train_test_split(train_features, train_labels, test_size=0.2, random_state=42)\n",
    "\n",
    "class_labels = np.unique(train_labels)\n",
    "class_weights = compute_class_weight(class_weight='balanced', classes=class_labels, y=train_labels)\n",
    "\n",
    "class_weights_dict = dict(zip(class_labels, class_weights))\n",
    "\n",
    "# Saving datas\n",
    "np.save('Pre_Processed_Data/class_weights.npy', class_weights_dict)\n",
    "np.save('Pre_Processed_Data/train_features.npy', train_features)\n",
    "np.save('Pre_Processed_Data/train_labels.npy', train_labels)\n",
    "np.save('Pre_Processed_Data/val_features.npy', val_features)\n",
    "np.save('Pre_Processed_Data/val_labels.npy', val_labels)\n",
    "np.save('Pre_Processed_Data/test_features.npy', test_features)\n",
    "np.save('Pre_Processed_Data/test_labels.npy', test_labels)\n",
    "\n",
    "print(\"train_features:\", len(train_features))\n",
    "print(\"test_features:\", len(test_features))\n",
    "print(\"val_features:\", len(val_features))\n",
    "print(\"total features:\",len(features_normalized))"
   ]
  }
 ],
 "metadata": {
  "kernelspec": {
   "display_name": "Python 3",
   "language": "python",
   "name": "python3"
  },
  "language_info": {
   "codemirror_mode": {
    "name": "ipython",
    "version": 3
   },
   "file_extension": ".py",
   "mimetype": "text/x-python",
   "name": "python",
   "nbconvert_exporter": "python",
   "pygments_lexer": "ipython3",
   "version": "3.11.3"
  },
  "orig_nbformat": 4
 },
 "nbformat": 4,
 "nbformat_minor": 2
}
